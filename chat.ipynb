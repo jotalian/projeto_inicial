{
  "nbformat": 4,
  "nbformat_minor": 0,
  "metadata": {
    "colab": {
      "provenance": [],
      "authorship_tag": "ABX9TyP/XzuUrAHz84J9HF2kF/CW",
      "include_colab_link": true
    },
    "kernelspec": {
      "name": "python3",
      "display_name": "Python 3"
    },
    "language_info": {
      "name": "python"
    }
  },
  "cells": [
    {
      "cell_type": "markdown",
      "metadata": {
        "id": "view-in-github",
        "colab_type": "text"
      },
      "source": [
        "<a href=\"https://colab.research.google.com/github/jotalian/projeto_inicial/blob/main/chat.ipynb\" target=\"_parent\"><img src=\"https://colab.research.google.com/assets/colab-badge.svg\" alt=\"Open In Colab\"/></a>"
      ]
    },
    {
      "cell_type": "code",
      "execution_count": 1,
      "metadata": {
        "colab": {
          "base_uri": "https://localhost:8080/",
          "height": 662
        },
        "id": "vRXFNXhk13sc",
        "outputId": "c715dccf-5276-459e-9fbc-0fd31cbbc601"
      },
      "outputs": [
        {
          "output_type": "stream",
          "name": "stdout",
          "text": [
            "**Recursos da Alura**\n",
            "\n",
            "* **Curso de Introdução à Inteligência Artificial (IA)**: Visão geral dos conceitos de IA, tipos de algoritmos e aplicações.\n",
            "* **Curso de Machine Learning com Python** : Introdução a técnicas de aprendizado de máquina, como regressão linear e classificação.\n",
            "* **Curso de Processamento de Linguagem Natural** : Fundamentos de PNL, incluindo tokenização, vetorização e processamento de sentimentos.\n",
            "* **Curso de Visão Computacional** : Conceitos básicos de visão computacional, como detecção de objetos e reconhecimento de imagens.\n",
            "* **Trilha de Especialização em Inteligência Artificial** : Uma trilha abrangente que abrange os fundamentos da IA, aprendizado de máquina, PNL e visão computacional.\n",
            "\n",
            "**Recursos do Google**\n",
            "\n",
            "* **Google AI Platform** : Uma plataforma abrangente para desenvolvimento e implantação de modelos de IA.\n",
            "* **TensorFlow** : Uma biblioteca de aprendizado de máquina de código aberto do Google, popular para treinamento e implantação de modelos.\n",
            "* **Cloud AutoML** : Um serviço gerenciado para treinamento e implantação de modelos de aprendizado de máquina sem codificação.\n",
            "* **Google AI Blog** : Um recurso para as últimas notícias, pesquisas e tendências em IA.\n",
            "* **Google AI Education** : Recursos educacionais para alunos e educadores, incluindo cursos, tutoriais e workshops.\n",
            "* **Google AI Summit** : Uma conferência anual que reúne especialistas em IA e desenvolvedores para compartilhar as últimas inovações.\n",
            "\n",
            "**Sugestões de Percurso de Aprendizado**\n",
            "\n",
            "**Iniciante:**\n",
            "\n",
            "* Curso de Introdução à IA da Alura\n",
            "* Curso de Machine Learning com Python da Alura\n",
            "* Introdução à TensorFlow (no site do Google)\n",
            "\n",
            "**Intermediário:**\n",
            "\n",
            "* Curso de Processamento de Linguagem Natural da Alura\n",
            "* Curso de Visão Computacional da Alura\n",
            "* Comece com o Cloud AutoML (no site do Google)\n",
            "\n",
            "**Avançado:**\n",
            "\n",
            "* Trilha de Especialização em Inteligência Artificial da Alura\n",
            "* Google AI Platform: Visão Geral e Conceitos Fundamentais\n",
            "* Construa e implante um modelo de aprendizado de máquina com o TensorFlow (no site do Google)\n"
          ]
        }
      ],
      "source": [
        "!pip install -q -U google-generativeai\n",
        "\n",
        "import pathlib\n",
        "import textwrap\n",
        "\n",
        "import google.generativeai as genai\n",
        "from google.colab import userdata\n",
        "api_key = userdata.get('SECRET_KEY')\n",
        "genai.configure(api_key=api_key)\n",
        "\n",
        "model = genai.GenerativeModel('gemini-pro')\n",
        "\n",
        "response = model.generate_content('Aprendendo Ia com Alura e o Google. Me de sugestões.')\n",
        "print(response.text)"
      ]
    },
    {
      "cell_type": "code",
      "source": [
        "Generation_Config ={\n",
        "    'candidate_count': 1,\n",
        "    'temperature': 0.5,\n",
        "}"
      ],
      "metadata": {
        "id": "I7tvhf3sBG-9"
      },
      "execution_count": 2,
      "outputs": []
    },
    {
      "cell_type": "code",
      "source": [
        "response = model.generate_content('Aprendendo Ia com a Alura. Me de atualizações.')\n",
        "print(response.text)"
      ],
      "metadata": {
        "colab": {
          "base_uri": "https://localhost:8080/",
          "height": 573
        },
        "id": "jlY-adDmD76X",
        "outputId": "e1f45a41-db8a-4358-fe92-33aff96e2787"
      },
      "execution_count": 3,
      "outputs": [
        {
          "output_type": "stream",
          "name": "stdout",
          "text": [
            "**Atualizações da Alura sobre Aprendizado de IA**\n",
            "\n",
            "**Novos Cursos:**\n",
            "\n",
            "* **Inteligência Artificial: Conceitos e Aplicações** (lançado em maio de 2023)\n",
            "* **Aprendizado de Máquina com Python** (lançado em junho de 2023)\n",
            "\n",
            "**Atualizações de Cursos Existentes:**\n",
            "\n",
            "* **Inteligência Artificial: O Guia Definitivo** (atualizado em março de 2023 com novos módulos sobre processamento de linguagem natural e redes neurais)\n",
            "* **Redes Neurais: Conceitos e Aplicações** (atualizado em abril de 2023 com exemplos mais práticos e estudos de caso)\n",
            "\n",
            "**Novos Projetos Práticos:**\n",
            "\n",
            "* **Projeto Real: Criação de um Chatbot usando IA**\n",
            "* **Projeto Real: Detecção de Objetos com Visão Computacional**\n",
            "\n",
            "**Parcerias com Empresas:**\n",
            "\n",
            "* **IBM:** Colaboração para fornecer conteúdo exclusivo sobre IA e aprendizado de máquina\n",
            "* **Microsoft:** Acesso aos recursos do Azure AI para projetos práticos\n",
            "\n",
            "**Eventos e Webinars:**\n",
            "\n",
            "* **Palestra: Como a IA está Transformando o Mundo** (marcado para julho de 2023)\n",
            "* **Webinar: Introdução ao Aprendizado de Máquina** (realizado em maio de 2023)\n",
            "\n",
            "**Outras atualizações:**\n",
            "\n",
            "* **Comunidade ativa:** Participe de fóruns e grupos de discussão para se conectar com outros alunos e profissionais de IA\n",
            "* **Suporte personalizado:** Obtenha ajuda de mentores e especialistas da Alura em sua jornada de aprendizado\n",
            "* **Atualizações de conteúdo regulares:** Os cursos e recursos da Alura são constantemente atualizados para refletir as últimas tendências e inovações em IA\n"
          ]
        }
      ]
    },
    {
      "cell_type": "code",
      "source": [
        "chat = model.start_chat(history=[])"
      ],
      "metadata": {
        "id": "wciQYvCbGR7G"
      },
      "execution_count": 92,
      "outputs": []
    },
    {
      "cell_type": "code",
      "source": [],
      "metadata": {
        "id": "5ttnNnuX5wAp"
      },
      "execution_count": 4,
      "outputs": []
    },
    {
      "cell_type": "code",
      "source": [
        "prompt = input ('Iniciando Conversa:')\n",
        "while prompt != 'Sair':\n",
        "  response = chat.send_message(prompt)\n",
        "  print('Resposta: ', response.text, '\\n')\n",
        "  prompt = input ('Iniciando Conversa:')"
      ],
      "metadata": {
        "colab": {
          "base_uri": "https://localhost:8080/",
          "height": 1000
        },
        "id": "bNRN9stCIJSw",
        "outputId": "d84b50e2-c32b-4b45-a662-7d8779d8bacf"
      },
      "execution_count": 99,
      "outputs": [
        {
          "name": "stdout",
          "output_type": "stream",
          "text": [
            "Iniciando Conversa:iniciacao a html\n",
            "Resposta:  **Introdução ao HTML**\n",
            "\n",
            "**O que é HTML?**\n",
            "\n",
            "* Sigla para HyperText Markup Language (Linguagem de Marcação de Hipertexto)\n",
            "* É uma linguagem de marcação usada para criar páginas da Web\n",
            "* Fornece estrutura e semântica para conteúdo da Web\n",
            "\n",
            "**Estrutura básica de um documento HTML**\n",
            "\n",
            "```html\n",
            "<!DOCTYPE html>\n",
            "<html>\n",
            "<head>\n",
            "  <title>Título da página</title>\n",
            "</head>\n",
            "<body>\n",
            "  <h1>Título principal</h1>\n",
            "  <p>Parágrafo de texto</p>\n",
            "</body>\n",
            "</html>\n",
            "```\n",
            "\n",
            "**Elementos HTML**\n",
            "\n",
            "* Os elementos HTML definem diferentes partes de uma página da Web\n",
            "* Eles são compostos por uma tag de abertura (`<elemento>`), conteúdo e uma tag de fechamento (`</elemento>`)\n",
            "* Exemplos:\n",
            "\n",
            "  * `<html>` define a estrutura global da página\n",
            "  * `<head>` contém informações sobre a página, como o título\n",
            "  * `<title>` define o título da página que aparece na guia do navegador\n",
            "  * `<body>` contém o conteúdo principal que é exibido na página\n",
            "\n",
            "**Atributos HTML**\n",
            "\n",
            "* Os atributos fornecem informações adicionais aos elementos\n",
            "* Eles são escritos dentro da tag de abertura, por exemplo:\n",
            "\n",
            "  * `<a href=\"link.html\">Texto do link</a>` (define o link para o qual o texto leva)\n",
            "  * `<img src=\"imagem.jpg\">` (define a imagem a ser exibida)\n",
            "\n",
            "**Tags aninhadas**\n",
            "\n",
            "* Os elementos HTML podem ser aninhados dentro uns dos outros\n",
            "* Isso permite que você crie estruturas mais complexas, por exemplo:\n",
            "\n",
            "  * `<h1>Título principal</h1><h2>Subtítulo</h2>` (o subtítulo é aninhado dentro do título principal)\n",
            "\n",
            "**Navegadores**\n",
            "\n",
            "* Os navegadores da Web, como o Chrome e o Firefox, interpretam o código HTML e exibem as páginas da Web\n",
            "* Os navegadores convertem as tags e atributos HTML em conteúdo visual que os usuários podem ver e interagir\n",
            "\n",
            "**Recursos Adicionais**\n",
            "\n",
            "* [MDN Web Docs (HTML)](https://developer.mozilla.org/en-US/docs/Web/HTML)\n",
            "* [W3Schools (HTML Tutorial)](https://www.w3schools.com/html/)\n",
            "* [HTML Dog (Guia de Referência HTML)](https://htmldog.com/reference/html/) \n",
            "\n",
            "Iniciando Conversa:Sair\n"
          ]
        }
      ]
    },
    {
      "cell_type": "code",
      "source": [
        "import textwrap\n",
        "from IPython.display import Markdown, HTML\n",
        "\n",
        "def to_markdown(text, color=None):\n",
        "    \"\"\"Converts text to Markdown format with optional color.\"\"\"\n",
        "    text = text.replace(\"<\", \"<\")  # Escape HTML characters\n",
        "\n",
        "    if color:\n",
        "        # Use HTML span for color (more control over styling)\n",
        "        return HTML(f'<span style=\"color: {Black: True};\">{textwrap.indent(text, \"> \", lambda _: True)}</span>')\n",
        "    else:\n",
        "        return Markdown(textwrap.indent(text, \"> \", lambda _: True))\n",
        "\n",
        "# Imprimindo o histórico\n",
        "for message in chat.history:\n",
        "    display(to_markdown(message.role + \": \" + message.parts[0].text))\n",
        "    print('---------->><<---------->><<----------')"
      ],
      "metadata": {
        "id": "b9O7utfOSE0s",
        "colab": {
          "base_uri": "https://localhost:8080/",
          "height": 945
        },
        "outputId": "00b02958-d0ae-4a95-af91-4a05d8b0ee32"
      },
      "execution_count": 100,
      "outputs": [
        {
          "output_type": "display_data",
          "data": {
            "text/plain": [
              "<IPython.core.display.Markdown object>"
            ],
            "text/markdown": "> user: iniciacao a html"
          },
          "metadata": {}
        },
        {
          "output_type": "stream",
          "name": "stdout",
          "text": [
            "---------->><<---------->><<----------\n"
          ]
        },
        {
          "output_type": "display_data",
          "data": {
            "text/plain": [
              "<IPython.core.display.Markdown object>"
            ],
            "text/markdown": "> model: **Introdução ao HTML**\n> \n> **O que é HTML?**\n> \n> * Sigla para HyperText Markup Language (Linguagem de Marcação de Hipertexto)\n> * É uma linguagem de marcação usada para criar páginas da Web\n> * Fornece estrutura e semântica para conteúdo da Web\n> \n> **Estrutura básica de um documento HTML**\n> \n> ```html\n> <!DOCTYPE html>\n> <html>\n> <head>\n>   <title>Título da página</title>\n> </head>\n> <body>\n>   <h1>Título principal</h1>\n>   <p>Parágrafo de texto</p>\n> </body>\n> </html>\n> ```\n> \n> **Elementos HTML**\n> \n> * Os elementos HTML definem diferentes partes de uma página da Web\n> * Eles são compostos por uma tag de abertura (`<elemento>`), conteúdo e uma tag de fechamento (`</elemento>`)\n> * Exemplos:\n> \n>   * `<html>` define a estrutura global da página\n>   * `<head>` contém informações sobre a página, como o título\n>   * `<title>` define o título da página que aparece na guia do navegador\n>   * `<body>` contém o conteúdo principal que é exibido na página\n> \n> **Atributos HTML**\n> \n> * Os atributos fornecem informações adicionais aos elementos\n> * Eles são escritos dentro da tag de abertura, por exemplo:\n> \n>   * `<a href=\"link.html\">Texto do link</a>` (define o link para o qual o texto leva)\n>   * `<img src=\"imagem.jpg\">` (define a imagem a ser exibida)\n> \n> **Tags aninhadas**\n> \n> * Os elementos HTML podem ser aninhados dentro uns dos outros\n> * Isso permite que você crie estruturas mais complexas, por exemplo:\n> \n>   * `<h1>Título principal</h1><h2>Subtítulo</h2>` (o subtítulo é aninhado dentro do título principal)\n> \n> **Navegadores**\n> \n> * Os navegadores da Web, como o Chrome e o Firefox, interpretam o código HTML e exibem as páginas da Web\n> * Os navegadores convertem as tags e atributos HTML em conteúdo visual que os usuários podem ver e interagir\n> \n> **Recursos Adicionais**\n> \n> * [MDN Web Docs (HTML)](https://developer.mozilla.org/en-US/docs/Web/HTML)\n> * [W3Schools (HTML Tutorial)](https://www.w3schools.com/html/)\n> * [HTML Dog (Guia de Referência HTML)](https://htmldog.com/reference/html/)"
          },
          "metadata": {}
        },
        {
          "output_type": "stream",
          "name": "stdout",
          "text": [
            "---------->><<---------->><<----------\n"
          ]
        }
      ]
    },
    {
      "cell_type": "code",
      "source": [],
      "metadata": {
        "id": "AnJ2Wx_bOnAx"
      },
      "execution_count": null,
      "outputs": []
    }
  ]
}