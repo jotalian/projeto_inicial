{
  "nbformat": 4,
  "nbformat_minor": 0,
  "metadata": {
    "colab": {
      "provenance": [],
      "authorship_tag": "ABX9TyMXSgYxyu04VlZXfsMVJmhG",
      "include_colab_link": true
    },
    "kernelspec": {
      "name": "python3",
      "display_name": "Python 3"
    },
    "language_info": {
      "name": "python"
    }
  },
  "cells": [
    {
      "cell_type": "markdown",
      "metadata": {
        "id": "view-in-github",
        "colab_type": "text"
      },
      "source": [
        "<a href=\"https://colab.research.google.com/github/jotalian/projeto_inicial/blob/main/chat.ipynb\" target=\"_parent\"><img src=\"https://colab.research.google.com/assets/colab-badge.svg\" alt=\"Open In Colab\"/></a>"
      ]
    },
    {
      "cell_type": "code",
      "execution_count": null,
      "metadata": {
        "id": "vRXFNXhk13sc"
      },
      "outputs": [],
      "source": [
        "!pip install -q -U google-generativeai\n",
        "\n",
        "import pathlib\n",
        "import textwrap\n",
        "\n",
        "import google.generativeai as genai\n",
        "from google.colab import userdata\n",
        "api_key = userdata.get('SECRET_KEY')\n",
        "genai.configure(api_key=api_key)\n",
        "\n",
        "model = genai.GenerativeModel('gemini-pro')\n",
        "\n",
        "response = model.generate_content('Aprendendo Ia com Alura e o Google. Me de sugestões.')\n",
        "print(response.text)"
      ]
    },
    {
      "cell_type": "code",
      "source": [
        "Generation_Config ={\n",
        "    'candidate_count': 1,\n",
        "    'temperature': 0.5,\n",
        "}"
      ],
      "metadata": {
        "id": "I7tvhf3sBG-9"
      },
      "execution_count": null,
      "outputs": []
    },
    {
      "cell_type": "code",
      "source": [
        "response = model.generate_content('Aprendendo Ia com a Alura. Me de atualizações.')\n",
        "print(response.text)"
      ],
      "metadata": {
        "id": "jlY-adDmD76X"
      },
      "execution_count": null,
      "outputs": []
    },
    {
      "cell_type": "code",
      "source": [
        "chat = model.start_chat(history=[])"
      ],
      "metadata": {
        "id": "wciQYvCbGR7G"
      },
      "execution_count": null,
      "outputs": []
    },
    {
      "cell_type": "code",
      "source": [
        "prompt = input ('Iniciando Conversa:')\n",
        "while prompt != 'Sair':\n",
        "  response = chat.send_message(prompt)\n",
        "  print('Resposta: ', response.text, '\\n')\n",
        "  prompt = input ('Iniciando Conversa:')"
      ],
      "metadata": {
        "id": "bNRN9stCIJSw"
      },
      "execution_count": null,
      "outputs": []
    },
    {
      "cell_type": "code",
      "source": [
        "import textwrap\n",
        "from IPython.display import Markdown, HTML\n",
        "\n",
        "def to_markdown(text, color=None):\n",
        "    \"\"\"Converts text to Markdown format with optional color.\"\"\"\n",
        "    text = text.replace(\"<\", \"<\")  # Escape HTML characters\n",
        "\n",
        "    if color:\n",
        "        # Use HTML span for color (more control over styling)\n",
        "        return HTML(f'<span style=\"color: {Black: True};\">{textwrap.indent(text, \"> \", lambda _: True)}</span>')\n",
        "    else:\n",
        "        return Markdown(textwrap.indent(text, \"> \", lambda _: True))\n",
        "\n",
        "# Imprimindo o histórico\n",
        "for message in chat.history:\n",
        "    display(to_markdown(message.role + \": \" + message.parts[0].text))\n",
        "    print('---------->><<---------->><<----------')"
      ],
      "metadata": {
        "id": "b9O7utfOSE0s"
      },
      "execution_count": null,
      "outputs": []
    }
  ]
}